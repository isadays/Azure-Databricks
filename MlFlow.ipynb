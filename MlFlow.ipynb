{
 "cells": [
  {
   "cell_type": "code",
   "execution_count": 34,
   "id": "cf5256ff-8caf-4cf6-a3fc-edad8a9743b0",
   "metadata": {},
   "outputs": [
    {
     "name": "stdout",
     "output_type": "stream",
     "text": [
      "Collecting pyenv\n",
      "  Using cached pyenv-0.0.1.tar.gz (1.4 kB)\n",
      "  Installing build dependencies ... \u001b[?25ldone\n",
      "\u001b[?25h  Getting requirements to build wheel ... \u001b[?25ldone\n",
      "\u001b[?25h  Installing backend dependencies ... \u001b[?25ldone\n",
      "\u001b[?25h  Preparing metadata (pyproject.toml) ... \u001b[?25ldone\n",
      "\u001b[?25hBuilding wheels for collected packages: pyenv\n",
      "  Building wheel for pyenv (pyproject.toml) ... \u001b[?25lerror\n",
      "  \u001b[1;31merror\u001b[0m: \u001b[1msubprocess-exited-with-error\u001b[0m\n",
      "  \n",
      "  \u001b[31m×\u001b[0m \u001b[32mBuilding wheel for pyenv \u001b[0m\u001b[1;32m(\u001b[0m\u001b[32mpyproject.toml\u001b[0m\u001b[1;32m)\u001b[0m did not run successfully.\n",
      "  \u001b[31m│\u001b[0m exit code: \u001b[1;36m1\u001b[0m\n",
      "  \u001b[31m╰─>\u001b[0m \u001b[31m[12 lines of output]\u001b[0m\n",
      "  \u001b[31m   \u001b[0m running bdist_wheel\n",
      "  \u001b[31m   \u001b[0m running build\n",
      "  \u001b[31m   \u001b[0m installing to build/bdist.linux-x86_64/wheel\n",
      "  \u001b[31m   \u001b[0m running install\n",
      "  \u001b[31m   \u001b[0m ############################ NOTE ############################\n",
      "  \u001b[31m   \u001b[0m We are sorry, but this package is not installable with pip.\n",
      "  \u001b[31m   \u001b[0m \n",
      "  \u001b[31m   \u001b[0m Please read the installation instructions at:\n",
      "  \u001b[31m   \u001b[0m \n",
      "  \u001b[31m   \u001b[0m https://github.com/pyenv/pyenv#installation\n",
      "  \u001b[31m   \u001b[0m ##############################################################\n",
      "  \u001b[31m   \u001b[0m \n",
      "  \u001b[31m   \u001b[0m \u001b[31m[end of output]\u001b[0m\n",
      "  \n",
      "  \u001b[1;35mnote\u001b[0m: This error originates from a subprocess, and is likely not a problem with pip.\n",
      "\u001b[31m  ERROR: Failed building wheel for pyenv\u001b[0m\u001b[31m\n",
      "\u001b[0m\u001b[?25hFailed to build pyenv\n",
      "\u001b[31mERROR: Could not build wheels for pyenv, which is required to install pyproject.toml-based projects\u001b[0m\u001b[31m\n",
      "\u001b[0m"
     ]
    }
   ],
   "source": [
    "#!pip install black\n",
    "#!pip install pylint\n",
    "#!pip install ipython\n",
    "#!pip install sklearn"
   ]
  },
  {
   "cell_type": "code",
   "execution_count": 31,
   "id": "5682095d-5b8f-46e9-b59d-ecf85b807df6",
   "metadata": {},
   "outputs": [
    {
     "name": "stdout",
     "output_type": "stream",
     "text": [
      "Cloning into 'mlflow'...\n",
      "remote: Enumerating objects: 107779, done.\u001b[K\n",
      "remote: Counting objects: 100% (10019/10019), done.\u001b[K\n",
      "remote: Compressing objects: 100% (663/663), done.\u001b[K\n",
      "remote: Total 107779 (delta 9680), reused 9441 (delta 9353), pack-reused 97760\u001b[K\n",
      "Receiving objects: 100% (107779/107779), 424.22 MiB | 46.84 MiB/s, done.\n",
      "Resolving deltas: 100% (80400/80400), done.\n",
      "Updating files: 100% (4294/4294), done.\n"
     ]
    }
   ],
   "source": [
    "!git clone https://github.com/mlflow/mlflow.git\n"
   ]
  },
  {
   "cell_type": "code",
   "execution_count": 32,
   "id": "7a9de7ef-c579-4a58-988b-a1df02dde3a0",
   "metadata": {},
   "outputs": [
    {
     "name": "stdout",
     "output_type": "stream",
     "text": [
      "/workspaces/Azure-Databricks/mlflow/examples/sklearn_elasticnet_wine\n"
     ]
    }
   ],
   "source": [
    "%cd /workspaces/Azure-Databricks/mlflow/examples/sklearn_elasticnet_wine"
   ]
  },
  {
   "cell_type": "code",
   "execution_count": 35,
   "id": "91b124f4-1850-4082-a94f-cfdcf89b0f79",
   "metadata": {},
   "outputs": [
    {
     "name": "stdout",
     "output_type": "stream",
     "text": [
      "2024/05/24 16:04:33 INFO mlflow.projects.utils: === Created directory /tmp/tmpvt9vj3c2 for downloading remote URIs passed to arguments of type 'path' ===\n",
      "2024/05/24 16:04:33 INFO mlflow.projects.backend.local: === Running command 'python train.py 0.4 0.1' in run with ID 'be183fefe4f144a99221c5b0aea0df9b' === \n",
      "Elasticnet model (alpha=0.400000, l1_ratio=0.100000):\n",
      "  RMSE: 0.7410782793160982\n",
      "  MAE: 0.5712718681984226\n",
      "  R2: 0.22185255063708886\n",
      "2024/05/24 16:04:39 INFO mlflow.projects: === Run (ID 'be183fefe4f144a99221c5b0aea0df9b') succeeded ===\n"
     ]
    }
   ],
   "source": [
    "!mlflow run . -P alpha=0.4 --env-manager=local\n"
   ]
  }
 ],
 "metadata": {
  "kernelspec": {
   "display_name": "Python 3 (ipykernel)",
   "language": "python",
   "name": "python3"
  },
  "language_info": {
   "codemirror_mode": {
    "name": "ipython",
    "version": 3
   },
   "file_extension": ".py",
   "mimetype": "text/x-python",
   "name": "python",
   "nbconvert_exporter": "python",
   "pygments_lexer": "ipython3",
   "version": "3.10.13"
  }
 },
 "nbformat": 4,
 "nbformat_minor": 5
}
